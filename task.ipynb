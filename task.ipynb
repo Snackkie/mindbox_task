{
 "cells": [
  {
   "cell_type": "code",
   "execution_count": 19,
   "outputs": [],
   "source": [
    "import collections"
   ],
   "metadata": {
    "collapsed": false,
    "pycharm": {
     "name": "#%%\n"
    }
   }
  },
  {
   "cell_type": "markdown",
   "source": [
    "Cперва напишем функцию, считающую сумму цифр числа"
   ],
   "metadata": {
    "collapsed": false,
    "pycharm": {
     "name": "#%% md\n"
    }
   }
  },
  {
   "cell_type": "code",
   "execution_count": 20,
   "outputs": [],
   "source": [
    "def sum_num(n):\n",
    "    s = 0\n",
    "    while n > 0:\n",
    "        s += n % 10\n",
    "        n = (n - n % 10) // 10\n",
    "    return s"
   ],
   "metadata": {
    "collapsed": false,
    "pycharm": {
     "name": "#%%\n"
    }
   }
  },
  {
   "cell_type": "markdown",
   "source": [
    "Заметим, что если мы знаем сумму цифр (n-1)-го id, а они у нас идут по порядку, то сумма цифр n-го id равна\n",
    " -сумме цифр предыдущего + 1, если n-й id не кратен 10\n",
    " -сумме цифр предыдущего - 8, если n-й id кратен 10, но не 100,\n",
    " -сумме цифр предыдущего - 17, если n-й id кратен 100, но не 1000\n",
    " и так далее.\n",
    "Тогда мы можем написать функцию, считающую сумму цифр быстрее предыдущей функции."
   ],
   "metadata": {
    "collapsed": false,
    "pycharm": {
     "name": "#%% md\n"
    }
   }
  },
  {
   "cell_type": "code",
   "execution_count": 21,
   "outputs": [],
   "source": [
    "def sum_num_faster(n, prev_sum):\n",
    "    t = 0\n",
    "    while n % 10 == 0:\n",
    "        t += 1\n",
    "        n //= 10\n",
    "    return prev_sum - t*9 + 1"
   ],
   "metadata": {
    "collapsed": false,
    "pycharm": {
     "name": "#%%\n"
    }
   }
  },
  {
   "cell_type": "markdown",
   "source": [
    "Фуккцию, предоставляющую нам информацию о группах, удобно реализуется с помощью каунтера. Благодаря ему мы сможем\n",
    "обеспечить работу нашей функции за время, близкое к  O(n) (поиск в каунтере, как и в хеш-таблицах впринципе, происходит за О(1)"
   ],
   "metadata": {
    "collapsed": false,
    "pycharm": {
     "name": "#%% md\n"
    }
   }
  },
  {
   "cell_type": "code",
   "execution_count": 22,
   "outputs": [],
   "source": [
    "def group_info(lst):\n",
    "    last_value = sum_num(lst[0])\n",
    "    ctr = collections.Counter()\n",
    "    ctr[last_value]+=1\n",
    "    for j in range(1, len(lst)):\n",
    "        val = sum_num_faster(lst[j], last_value)\n",
    "        ctr[val] += 1\n",
    "        last_value = val\n",
    "    return ctr"
   ],
   "metadata": {
    "collapsed": false,
    "pycharm": {
     "name": "#%%\n"
    }
   }
  },
  {
   "cell_type": "markdown",
   "source": [
    "Задание 1(в качестве примера взято N1 = 100)"
   ],
   "metadata": {
    "collapsed": false,
    "pycharm": {
     "name": "#%% md\n"
    }
   }
  },
  {
   "cell_type": "code",
   "execution_count": 23,
   "outputs": [
    {
     "name": "stdout",
     "output_type": "stream",
     "text": [
      "Counter({9: 10, 8: 9, 10: 9, 7: 8, 11: 8, 6: 7, 12: 7, 5: 6, 13: 6, 4: 5, 14: 5, 3: 4, 15: 4, 2: 3, 16: 3, 1: 2, 17: 2, 0: 1, 18: 1})\n"
     ]
    }
   ],
   "source": [
    "N1 = int(input())\n",
    "lst = list(range(0, N1))\n",
    "print(group_info(lst))"
   ],
   "metadata": {
    "collapsed": false,
    "pycharm": {
     "name": "#%%\n"
    }
   }
  },
  {
   "cell_type": "markdown",
   "source": [
    "Задание 2(в качестве примера взято N2 = 123456, n = 543210)"
   ],
   "metadata": {
    "collapsed": false,
    "pycharm": {
     "name": "#%% md\n"
    }
   }
  },
  {
   "cell_type": "code",
   "execution_count": 24,
   "outputs": [
    {
     "name": "stdout",
     "output_type": "stream",
     "text": [
      "Counter({26: 32851, 25: 32565, 27: 32434, 24: 31591, 28: 31336, 23: 29980, 29: 29617, 22: 27824, 30: 27374, 21: 25243, 31: 24732, 20: 22376, 32: 21835, 19: 19372, 33: 18827, 18: 16369, 34: 15843, 17: 13486, 35: 12998, 16: 10817, 36: 10380, 15: 8431, 37: 8056, 14: 6374, 38: 6064, 13: 4664, 39: 4418, 12: 3295, 40: 3109, 11: 2241, 41: 2106, 10: 1461, 42: 1367, 9: 907, 43: 845, 8: 530, 44: 492, 7: 287, 45: 266, 6: 141, 46: 131, 5: 61, 47: 57, 4: 22, 48: 21, 3: 6, 49: 6, 2: 1, 50: 1})\n"
     ]
    }
   ],
   "source": [
    "N2 = int(input())\n",
    "n = int(input())\n",
    "lst = list(range(N2, N2+n))\n",
    "print(group_info(lst))"
   ],
   "metadata": {
    "collapsed": false,
    "pycharm": {
     "name": "#%%\n"
    }
   }
  }
 ],
 "metadata": {
  "kernelspec": {
   "display_name": "Python 3",
   "language": "python",
   "name": "python3"
  },
  "language_info": {
   "codemirror_mode": {
    "name": "ipython",
    "version": 2
   },
   "file_extension": ".py",
   "mimetype": "text/x-python",
   "name": "python",
   "nbconvert_exporter": "python",
   "pygments_lexer": "ipython2",
   "version": "2.7.6"
  }
 },
 "nbformat": 4,
 "nbformat_minor": 0
}